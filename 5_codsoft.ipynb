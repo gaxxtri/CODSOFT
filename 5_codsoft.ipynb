{
  "metadata": {
    "kernelspec": {
      "name": "python",
      "display_name": "Python (Pyodide)",
      "language": "python"
    },
    "language_info": {
      "codemirror_mode": {
        "name": "python",
        "version": 3
      },
      "file_extension": ".py",
      "mimetype": "text/x-python",
      "name": "python",
      "nbconvert_exporter": "python",
      "pygments_lexer": "ipython3",
      "version": "3.8"
    }
  },
  "nbformat_minor": 4,
  "nbformat": 4,
  "cells": [
    {
      "cell_type": "markdown",
      "source": "TASK-5\nThe objective is to build a machine learning model to identify fraudulent credit card transactions. Preprocess and normalize the transaction data, handle class imbalance issues, and split the dataset into training and testing sets. Train a classification algorithm, such as logistic regression or random forests, to classify transactions as fraudulent or genuine.\nEvaluate the model's performance using metrics like precision, recall, and F1-score, and consider techniques like oversampling or under sampling for improving results.",
      "metadata": {}
    },
    {
      "cell_type": "code",
      "source": "import pandas as pd\nimport numpy as np\nfrom sklearn.model_selection import train_test_split\nfrom sklearn.linear_model import LogisticRegression\nfrom sklearn.metrics import accuracy_score",
      "metadata": {
        "trusted": true
      },
      "outputs": [],
      "execution_count": 10
    },
    {
      "cell_type": "code",
      "source": "credit_card_data=pd.read_csv('creditcard.csv')\ncredit_card_data.head()",
      "metadata": {
        "trusted": true
      },
      "outputs": [
        {
          "execution_count": 2,
          "output_type": "execute_result",
          "data": {
            "text/plain": "   Time        V1        V2        V3        V4        V5        V6        V7  \\\n0   0.0 -1.359807 -0.072781  2.536347  1.378155 -0.338321  0.462388  0.239599   \n1   0.0  1.191857  0.266151  0.166480  0.448154  0.060018 -0.082361 -0.078803   \n2   1.0 -1.358354 -1.340163  1.773209  0.379780 -0.503198  1.800499  0.791461   \n3   1.0 -0.966272 -0.185226  1.792993 -0.863291 -0.010309  1.247203  0.237609   \n4   2.0 -1.158233  0.877737  1.548718  0.403034 -0.407193  0.095921  0.592941   \n\n         V8        V9  ...       V21       V22       V23       V24       V25  \\\n0  0.098698  0.363787  ... -0.018307  0.277838 -0.110474  0.066928  0.128539   \n1  0.085102 -0.255425  ... -0.225775 -0.638672  0.101288 -0.339846  0.167170   \n2  0.247676 -1.514654  ...  0.247998  0.771679  0.909412 -0.689281 -0.327642   \n3  0.377436 -1.387024  ... -0.108300  0.005274 -0.190321 -1.175575  0.647376   \n4 -0.270533  0.817739  ... -0.009431  0.798278 -0.137458  0.141267 -0.206010   \n\n        V26       V27       V28  Amount  Class  \n0 -0.189115  0.133558 -0.021053  149.62      0  \n1  0.125895 -0.008983  0.014724    2.69      0  \n2 -0.139097 -0.055353 -0.059752  378.66      0  \n3 -0.221929  0.062723  0.061458  123.50      0  \n4  0.502292  0.219422  0.215153   69.99      0  \n\n[5 rows x 31 columns]",
            "text/html": "<div>\n<style scoped>\n    .dataframe tbody tr th:only-of-type {\n        vertical-align: middle;\n    }\n\n    .dataframe tbody tr th {\n        vertical-align: top;\n    }\n\n    .dataframe thead th {\n        text-align: right;\n    }\n</style>\n<table border=\"1\" class=\"dataframe\">\n  <thead>\n    <tr style=\"text-align: right;\">\n      <th></th>\n      <th>Time</th>\n      <th>V1</th>\n      <th>V2</th>\n      <th>V3</th>\n      <th>V4</th>\n      <th>V5</th>\n      <th>V6</th>\n      <th>V7</th>\n      <th>V8</th>\n      <th>V9</th>\n      <th>...</th>\n      <th>V21</th>\n      <th>V22</th>\n      <th>V23</th>\n      <th>V24</th>\n      <th>V25</th>\n      <th>V26</th>\n      <th>V27</th>\n      <th>V28</th>\n      <th>Amount</th>\n      <th>Class</th>\n    </tr>\n  </thead>\n  <tbody>\n    <tr>\n      <th>0</th>\n      <td>0.0</td>\n      <td>-1.359807</td>\n      <td>-0.072781</td>\n      <td>2.536347</td>\n      <td>1.378155</td>\n      <td>-0.338321</td>\n      <td>0.462388</td>\n      <td>0.239599</td>\n      <td>0.098698</td>\n      <td>0.363787</td>\n      <td>...</td>\n      <td>-0.018307</td>\n      <td>0.277838</td>\n      <td>-0.110474</td>\n      <td>0.066928</td>\n      <td>0.128539</td>\n      <td>-0.189115</td>\n      <td>0.133558</td>\n      <td>-0.021053</td>\n      <td>149.62</td>\n      <td>0</td>\n    </tr>\n    <tr>\n      <th>1</th>\n      <td>0.0</td>\n      <td>1.191857</td>\n      <td>0.266151</td>\n      <td>0.166480</td>\n      <td>0.448154</td>\n      <td>0.060018</td>\n      <td>-0.082361</td>\n      <td>-0.078803</td>\n      <td>0.085102</td>\n      <td>-0.255425</td>\n      <td>...</td>\n      <td>-0.225775</td>\n      <td>-0.638672</td>\n      <td>0.101288</td>\n      <td>-0.339846</td>\n      <td>0.167170</td>\n      <td>0.125895</td>\n      <td>-0.008983</td>\n      <td>0.014724</td>\n      <td>2.69</td>\n      <td>0</td>\n    </tr>\n    <tr>\n      <th>2</th>\n      <td>1.0</td>\n      <td>-1.358354</td>\n      <td>-1.340163</td>\n      <td>1.773209</td>\n      <td>0.379780</td>\n      <td>-0.503198</td>\n      <td>1.800499</td>\n      <td>0.791461</td>\n      <td>0.247676</td>\n      <td>-1.514654</td>\n      <td>...</td>\n      <td>0.247998</td>\n      <td>0.771679</td>\n      <td>0.909412</td>\n      <td>-0.689281</td>\n      <td>-0.327642</td>\n      <td>-0.139097</td>\n      <td>-0.055353</td>\n      <td>-0.059752</td>\n      <td>378.66</td>\n      <td>0</td>\n    </tr>\n    <tr>\n      <th>3</th>\n      <td>1.0</td>\n      <td>-0.966272</td>\n      <td>-0.185226</td>\n      <td>1.792993</td>\n      <td>-0.863291</td>\n      <td>-0.010309</td>\n      <td>1.247203</td>\n      <td>0.237609</td>\n      <td>0.377436</td>\n      <td>-1.387024</td>\n      <td>...</td>\n      <td>-0.108300</td>\n      <td>0.005274</td>\n      <td>-0.190321</td>\n      <td>-1.175575</td>\n      <td>0.647376</td>\n      <td>-0.221929</td>\n      <td>0.062723</td>\n      <td>0.061458</td>\n      <td>123.50</td>\n      <td>0</td>\n    </tr>\n    <tr>\n      <th>4</th>\n      <td>2.0</td>\n      <td>-1.158233</td>\n      <td>0.877737</td>\n      <td>1.548718</td>\n      <td>0.403034</td>\n      <td>-0.407193</td>\n      <td>0.095921</td>\n      <td>0.592941</td>\n      <td>-0.270533</td>\n      <td>0.817739</td>\n      <td>...</td>\n      <td>-0.009431</td>\n      <td>0.798278</td>\n      <td>-0.137458</td>\n      <td>0.141267</td>\n      <td>-0.206010</td>\n      <td>0.502292</td>\n      <td>0.219422</td>\n      <td>0.215153</td>\n      <td>69.99</td>\n      <td>0</td>\n    </tr>\n  </tbody>\n</table>\n<p>5 rows × 31 columns</p>\n</div>"
          },
          "metadata": {}
        }
      ],
      "execution_count": 2
    },
    {
      "cell_type": "code",
      "source": "credit_card_data.tail()",
      "metadata": {
        "trusted": true
      },
      "outputs": [
        {
          "execution_count": 3,
          "output_type": "execute_result",
          "data": {
            "text/plain": "            Time         V1         V2        V3        V4        V5  \\\n284802  172786.0 -11.881118  10.071785 -9.834783 -2.066656 -5.364473   \n284803  172787.0  -0.732789  -0.055080  2.035030 -0.738589  0.868229   \n284804  172788.0   1.919565  -0.301254 -3.249640 -0.557828  2.630515   \n284805  172788.0  -0.240440   0.530483  0.702510  0.689799 -0.377961   \n284806  172792.0  -0.533413  -0.189733  0.703337 -0.506271 -0.012546   \n\n              V6        V7        V8        V9  ...       V21       V22  \\\n284802 -2.606837 -4.918215  7.305334  1.914428  ...  0.213454  0.111864   \n284803  1.058415  0.024330  0.294869  0.584800  ...  0.214205  0.924384   \n284804  3.031260 -0.296827  0.708417  0.432454  ...  0.232045  0.578229   \n284805  0.623708 -0.686180  0.679145  0.392087  ...  0.265245  0.800049   \n284806 -0.649617  1.577006 -0.414650  0.486180  ...  0.261057  0.643078   \n\n             V23       V24       V25       V26       V27       V28  Amount  \\\n284802  1.014480 -0.509348  1.436807  0.250034  0.943651  0.823731    0.77   \n284803  0.012463 -1.016226 -0.606624 -0.395255  0.068472 -0.053527   24.79   \n284804 -0.037501  0.640134  0.265745 -0.087371  0.004455 -0.026561   67.88   \n284805 -0.163298  0.123205 -0.569159  0.546668  0.108821  0.104533   10.00   \n284806  0.376777  0.008797 -0.473649 -0.818267 -0.002415  0.013649  217.00   \n\n        Class  \n284802      0  \n284803      0  \n284804      0  \n284805      0  \n284806      0  \n\n[5 rows x 31 columns]",
            "text/html": "<div>\n<style scoped>\n    .dataframe tbody tr th:only-of-type {\n        vertical-align: middle;\n    }\n\n    .dataframe tbody tr th {\n        vertical-align: top;\n    }\n\n    .dataframe thead th {\n        text-align: right;\n    }\n</style>\n<table border=\"1\" class=\"dataframe\">\n  <thead>\n    <tr style=\"text-align: right;\">\n      <th></th>\n      <th>Time</th>\n      <th>V1</th>\n      <th>V2</th>\n      <th>V3</th>\n      <th>V4</th>\n      <th>V5</th>\n      <th>V6</th>\n      <th>V7</th>\n      <th>V8</th>\n      <th>V9</th>\n      <th>...</th>\n      <th>V21</th>\n      <th>V22</th>\n      <th>V23</th>\n      <th>V24</th>\n      <th>V25</th>\n      <th>V26</th>\n      <th>V27</th>\n      <th>V28</th>\n      <th>Amount</th>\n      <th>Class</th>\n    </tr>\n  </thead>\n  <tbody>\n    <tr>\n      <th>284802</th>\n      <td>172786.0</td>\n      <td>-11.881118</td>\n      <td>10.071785</td>\n      <td>-9.834783</td>\n      <td>-2.066656</td>\n      <td>-5.364473</td>\n      <td>-2.606837</td>\n      <td>-4.918215</td>\n      <td>7.305334</td>\n      <td>1.914428</td>\n      <td>...</td>\n      <td>0.213454</td>\n      <td>0.111864</td>\n      <td>1.014480</td>\n      <td>-0.509348</td>\n      <td>1.436807</td>\n      <td>0.250034</td>\n      <td>0.943651</td>\n      <td>0.823731</td>\n      <td>0.77</td>\n      <td>0</td>\n    </tr>\n    <tr>\n      <th>284803</th>\n      <td>172787.0</td>\n      <td>-0.732789</td>\n      <td>-0.055080</td>\n      <td>2.035030</td>\n      <td>-0.738589</td>\n      <td>0.868229</td>\n      <td>1.058415</td>\n      <td>0.024330</td>\n      <td>0.294869</td>\n      <td>0.584800</td>\n      <td>...</td>\n      <td>0.214205</td>\n      <td>0.924384</td>\n      <td>0.012463</td>\n      <td>-1.016226</td>\n      <td>-0.606624</td>\n      <td>-0.395255</td>\n      <td>0.068472</td>\n      <td>-0.053527</td>\n      <td>24.79</td>\n      <td>0</td>\n    </tr>\n    <tr>\n      <th>284804</th>\n      <td>172788.0</td>\n      <td>1.919565</td>\n      <td>-0.301254</td>\n      <td>-3.249640</td>\n      <td>-0.557828</td>\n      <td>2.630515</td>\n      <td>3.031260</td>\n      <td>-0.296827</td>\n      <td>0.708417</td>\n      <td>0.432454</td>\n      <td>...</td>\n      <td>0.232045</td>\n      <td>0.578229</td>\n      <td>-0.037501</td>\n      <td>0.640134</td>\n      <td>0.265745</td>\n      <td>-0.087371</td>\n      <td>0.004455</td>\n      <td>-0.026561</td>\n      <td>67.88</td>\n      <td>0</td>\n    </tr>\n    <tr>\n      <th>284805</th>\n      <td>172788.0</td>\n      <td>-0.240440</td>\n      <td>0.530483</td>\n      <td>0.702510</td>\n      <td>0.689799</td>\n      <td>-0.377961</td>\n      <td>0.623708</td>\n      <td>-0.686180</td>\n      <td>0.679145</td>\n      <td>0.392087</td>\n      <td>...</td>\n      <td>0.265245</td>\n      <td>0.800049</td>\n      <td>-0.163298</td>\n      <td>0.123205</td>\n      <td>-0.569159</td>\n      <td>0.546668</td>\n      <td>0.108821</td>\n      <td>0.104533</td>\n      <td>10.00</td>\n      <td>0</td>\n    </tr>\n    <tr>\n      <th>284806</th>\n      <td>172792.0</td>\n      <td>-0.533413</td>\n      <td>-0.189733</td>\n      <td>0.703337</td>\n      <td>-0.506271</td>\n      <td>-0.012546</td>\n      <td>-0.649617</td>\n      <td>1.577006</td>\n      <td>-0.414650</td>\n      <td>0.486180</td>\n      <td>...</td>\n      <td>0.261057</td>\n      <td>0.643078</td>\n      <td>0.376777</td>\n      <td>0.008797</td>\n      <td>-0.473649</td>\n      <td>-0.818267</td>\n      <td>-0.002415</td>\n      <td>0.013649</td>\n      <td>217.00</td>\n      <td>0</td>\n    </tr>\n  </tbody>\n</table>\n<p>5 rows × 31 columns</p>\n</div>"
          },
          "metadata": {}
        }
      ],
      "execution_count": 3
    },
    {
      "cell_type": "code",
      "source": "# dataset informations\ncredit_card_data.info()",
      "metadata": {
        "trusted": true
      },
      "outputs": [
        {
          "name": "stdout",
          "text": "<class 'pandas.core.frame.DataFrame'>\nRangeIndex: 284807 entries, 0 to 284806\nData columns (total 31 columns):\n #   Column  Non-Null Count   Dtype  \n---  ------  --------------   -----  \n 0   Time    284807 non-null  float64\n 1   V1      284807 non-null  float64\n 2   V2      284807 non-null  float64\n 3   V3      284807 non-null  float64\n 4   V4      284807 non-null  float64\n 5   V5      284807 non-null  float64\n 6   V6      284807 non-null  float64\n 7   V7      284807 non-null  float64\n 8   V8      284807 non-null  float64\n 9   V9      284807 non-null  float64\n 10  V10     284807 non-null  float64\n 11  V11     284807 non-null  float64\n 12  V12     284807 non-null  float64\n 13  V13     284807 non-null  float64\n 14  V14     284807 non-null  float64\n 15  V15     284807 non-null  float64\n 16  V16     284807 non-null  float64\n 17  V17     284807 non-null  float64\n 18  V18     284807 non-null  float64\n 19  V19     284807 non-null  float64\n 20  V20     284807 non-null  float64\n 21  V21     284807 non-null  float64\n 22  V22     284807 non-null  float64\n 23  V23     284807 non-null  float64\n 24  V24     284807 non-null  float64\n 25  V25     284807 non-null  float64\n 26  V26     284807 non-null  float64\n 27  V27     284807 non-null  float64\n 28  V28     284807 non-null  float64\n 29  Amount  284807 non-null  float64\n 30  Class   284807 non-null  int64  \ndtypes: float64(30), int64(1)\nmemory usage: 67.4 MB\n",
          "output_type": "stream"
        }
      ],
      "execution_count": 4
    },
    {
      "cell_type": "code",
      "source": "# checking the number of missing values in each column\ncredit_card_data.isnull().sum()",
      "metadata": {
        "trusted": true
      },
      "outputs": [
        {
          "execution_count": 5,
          "output_type": "execute_result",
          "data": {
            "text/plain": "Time      0\nV1        0\nV2        0\nV3        0\nV4        0\nV5        0\nV6        0\nV7        0\nV8        0\nV9        0\nV10       0\nV11       0\nV12       0\nV13       0\nV14       0\nV15       0\nV16       0\nV17       0\nV18       0\nV19       0\nV20       0\nV21       0\nV22       0\nV23       0\nV24       0\nV25       0\nV26       0\nV27       0\nV28       0\nAmount    0\nClass     0\ndtype: int64"
          },
          "metadata": {}
        }
      ],
      "execution_count": 5
    },
    {
      "cell_type": "code",
      "source": "# distribution of legit transactions & fraudulent transactions\ncredit_card_data['Class'].value_counts()",
      "metadata": {
        "trusted": true
      },
      "outputs": [
        {
          "execution_count": 6,
          "output_type": "execute_result",
          "data": {
            "text/plain": "0    284315\n1       492\nName: Class, dtype: int64"
          },
          "metadata": {}
        }
      ],
      "execution_count": 6
    },
    {
      "cell_type": "code",
      "source": "# separating the data for analysis\nnot_fraud = credit_card_data[credit_card_data.Class == 0]\nfraud = credit_card_data[credit_card_data.Class == 1]",
      "metadata": {
        "trusted": true
      },
      "outputs": [],
      "execution_count": 7
    },
    {
      "cell_type": "code",
      "source": "print(not_fraud.shape)\nprint(fraud.shape)",
      "metadata": {
        "trusted": true
      },
      "outputs": [
        {
          "name": "stdout",
          "text": "(284315, 31)\n(492, 31)\n",
          "output_type": "stream"
        }
      ],
      "execution_count": 8
    },
    {
      "cell_type": "code",
      "source": "# statistical measures of the data\nnot_fraud.Amount.describe()",
      "metadata": {
        "trusted": true
      },
      "outputs": [
        {
          "execution_count": 9,
          "output_type": "execute_result",
          "data": {
            "text/plain": "count    284315.000000\nmean         88.291022\nstd         250.105092\nmin           0.000000\n25%           5.650000\n50%          22.000000\n75%          77.050000\nmax       25691.160000\nName: Amount, dtype: float64"
          },
          "metadata": {}
        }
      ],
      "execution_count": 9
    },
    {
      "cell_type": "code",
      "source": "fraud.Amount.describe()",
      "metadata": {
        "trusted": true
      },
      "outputs": [
        {
          "execution_count": 12,
          "output_type": "execute_result",
          "data": {
            "text/plain": "count     156.000000\nmean       95.758013\nstd       228.178528\nmin         0.000000\n25%         1.000000\n50%         4.930000\n75%        99.990000\nmax      1809.680000\nName: Amount, dtype: float64"
          },
          "metadata": {}
        }
      ],
      "execution_count": 12
    },
    {
      "cell_type": "code",
      "source": "# compare the values for both transactions\ncredit_card_data.groupby('Class').mean()",
      "metadata": {
        "trusted": true
      },
      "outputs": [
        {
          "execution_count": 13,
          "output_type": "execute_result",
          "data": {
            "text/plain": "               Time        V1        V2        V3        V4        V5  \\\nClass                                                                   \n0.0    30600.766816 -0.222674 -0.018472  0.721307  0.161099 -0.244542   \n1.0    27835.794872 -7.345427  5.255872 -9.922599  5.709553 -5.426307   \n\n             V6        V7        V8        V9  ...       V20       V21  \\\nClass                                          ...                       \n0.0    0.107561 -0.096454  0.045242  0.092669  ...  0.046438 -0.031322   \n1.0   -2.204159 -7.736462  3.560034 -3.453697  ...  0.449731  0.881689   \n\n            V22       V23       V24       V25       V26       V27       V28  \\\nClass                                                                         \n0.0   -0.106872 -0.038113  0.007273  0.134525  0.020398  0.002097  0.004102   \n1.0   -0.211806 -0.275513 -0.088146  0.239724  0.127377  0.580843  0.031086   \n\n          Amount  \nClass             \n0.0    94.703197  \n1.0    95.758013  \n\n[2 rows x 30 columns]",
            "text/html": "<div>\n<style scoped>\n    .dataframe tbody tr th:only-of-type {\n        vertical-align: middle;\n    }\n\n    .dataframe tbody tr th {\n        vertical-align: top;\n    }\n\n    .dataframe thead th {\n        text-align: right;\n    }\n</style>\n<table border=\"1\" class=\"dataframe\">\n  <thead>\n    <tr style=\"text-align: right;\">\n      <th></th>\n      <th>Time</th>\n      <th>V1</th>\n      <th>V2</th>\n      <th>V3</th>\n      <th>V4</th>\n      <th>V5</th>\n      <th>V6</th>\n      <th>V7</th>\n      <th>V8</th>\n      <th>V9</th>\n      <th>...</th>\n      <th>V20</th>\n      <th>V21</th>\n      <th>V22</th>\n      <th>V23</th>\n      <th>V24</th>\n      <th>V25</th>\n      <th>V26</th>\n      <th>V27</th>\n      <th>V28</th>\n      <th>Amount</th>\n    </tr>\n    <tr>\n      <th>Class</th>\n      <th></th>\n      <th></th>\n      <th></th>\n      <th></th>\n      <th></th>\n      <th></th>\n      <th></th>\n      <th></th>\n      <th></th>\n      <th></th>\n      <th></th>\n      <th></th>\n      <th></th>\n      <th></th>\n      <th></th>\n      <th></th>\n      <th></th>\n      <th></th>\n      <th></th>\n      <th></th>\n      <th></th>\n    </tr>\n  </thead>\n  <tbody>\n    <tr>\n      <th>0.0</th>\n      <td>30600.766816</td>\n      <td>-0.222674</td>\n      <td>-0.018472</td>\n      <td>0.721307</td>\n      <td>0.161099</td>\n      <td>-0.244542</td>\n      <td>0.107561</td>\n      <td>-0.096454</td>\n      <td>0.045242</td>\n      <td>0.092669</td>\n      <td>...</td>\n      <td>0.046438</td>\n      <td>-0.031322</td>\n      <td>-0.106872</td>\n      <td>-0.038113</td>\n      <td>0.007273</td>\n      <td>0.134525</td>\n      <td>0.020398</td>\n      <td>0.002097</td>\n      <td>0.004102</td>\n      <td>94.703197</td>\n    </tr>\n    <tr>\n      <th>1.0</th>\n      <td>27835.794872</td>\n      <td>-7.345427</td>\n      <td>5.255872</td>\n      <td>-9.922599</td>\n      <td>5.709553</td>\n      <td>-5.426307</td>\n      <td>-2.204159</td>\n      <td>-7.736462</td>\n      <td>3.560034</td>\n      <td>-3.453697</td>\n      <td>...</td>\n      <td>0.449731</td>\n      <td>0.881689</td>\n      <td>-0.211806</td>\n      <td>-0.275513</td>\n      <td>-0.088146</td>\n      <td>0.239724</td>\n      <td>0.127377</td>\n      <td>0.580843</td>\n      <td>0.031086</td>\n      <td>95.758013</td>\n    </tr>\n  </tbody>\n</table>\n<p>2 rows × 30 columns</p>\n</div>"
          },
          "metadata": {}
        }
      ],
      "execution_count": 13
    },
    {
      "cell_type": "code",
      "source": "not_fraud_sample = not_fraud.sample(n=492) #takes a random sample of 492 rows from the not_fraud DataFrame.\nnew_dataset = pd.concat([not_fraud_sample, fraud], axis=0)",
      "metadata": {
        "trusted": true
      },
      "outputs": [],
      "execution_count": 14
    },
    {
      "cell_type": "code",
      "source": "new_dataset.head()",
      "metadata": {
        "trusted": true
      },
      "outputs": [
        {
          "execution_count": 15,
          "output_type": "execute_result",
          "data": {
            "text/plain": "        Time        V1        V2        V3        V4        V5        V6  \\\n15466  26852  1.207315 -0.028825 -0.211620  0.763213  0.367964  0.600101   \n49946  44276  1.251325  0.757869 -0.084439  2.369997  0.485493 -0.547429   \n39654  39914 -7.346433  6.308177 -3.019775 -1.625954 -1.644740 -0.624973   \n45877  42534 -2.795346  3.660775 -1.508968  1.118360 -0.855779  0.765341   \n39281  39772  0.845702 -0.580135  1.084927  0.573585 -0.256650  2.084678   \n\n             V7        V8        V9  ...       V21       V22       V23  \\\n15466 -0.063089  0.151570  0.257969  ... -0.253342 -0.769807 -0.236558   \n49946  0.602436 -0.284635 -1.103291  ... -0.037360 -0.113463 -0.178870   \n39654 -0.663542  1.697959  4.034938  ... -1.006554 -1.360766  0.270238   \n45877 -3.804460 -7.663018 -1.605528  ... -2.899279  1.186918  0.757014   \n39281 -0.976582  0.793833  0.615226  ...  0.115194  0.525700  0.095240   \n\n            V24       V25       V26       V27       V28  Amount  Class  \n15466 -1.426600  0.692122 -0.426037  0.010321  0.004005   49.45    0.0  \n49946 -0.100785  0.812038  0.097151 -0.038106  0.007339    9.97    0.0  \n39654 -0.888902  1.328948  0.187997  2.071567  1.123830    8.95    0.0  \n45877  0.113623 -0.206789 -0.364723  0.119705  0.189285    1.00    0.0  \n39281 -0.961374 -0.103114  0.421108  0.075443  0.012427   64.06    0.0  \n\n[5 rows x 31 columns]",
            "text/html": "<div>\n<style scoped>\n    .dataframe tbody tr th:only-of-type {\n        vertical-align: middle;\n    }\n\n    .dataframe tbody tr th {\n        vertical-align: top;\n    }\n\n    .dataframe thead th {\n        text-align: right;\n    }\n</style>\n<table border=\"1\" class=\"dataframe\">\n  <thead>\n    <tr style=\"text-align: right;\">\n      <th></th>\n      <th>Time</th>\n      <th>V1</th>\n      <th>V2</th>\n      <th>V3</th>\n      <th>V4</th>\n      <th>V5</th>\n      <th>V6</th>\n      <th>V7</th>\n      <th>V8</th>\n      <th>V9</th>\n      <th>...</th>\n      <th>V21</th>\n      <th>V22</th>\n      <th>V23</th>\n      <th>V24</th>\n      <th>V25</th>\n      <th>V26</th>\n      <th>V27</th>\n      <th>V28</th>\n      <th>Amount</th>\n      <th>Class</th>\n    </tr>\n  </thead>\n  <tbody>\n    <tr>\n      <th>15466</th>\n      <td>26852</td>\n      <td>1.207315</td>\n      <td>-0.028825</td>\n      <td>-0.211620</td>\n      <td>0.763213</td>\n      <td>0.367964</td>\n      <td>0.600101</td>\n      <td>-0.063089</td>\n      <td>0.151570</td>\n      <td>0.257969</td>\n      <td>...</td>\n      <td>-0.253342</td>\n      <td>-0.769807</td>\n      <td>-0.236558</td>\n      <td>-1.426600</td>\n      <td>0.692122</td>\n      <td>-0.426037</td>\n      <td>0.010321</td>\n      <td>0.004005</td>\n      <td>49.45</td>\n      <td>0.0</td>\n    </tr>\n    <tr>\n      <th>49946</th>\n      <td>44276</td>\n      <td>1.251325</td>\n      <td>0.757869</td>\n      <td>-0.084439</td>\n      <td>2.369997</td>\n      <td>0.485493</td>\n      <td>-0.547429</td>\n      <td>0.602436</td>\n      <td>-0.284635</td>\n      <td>-1.103291</td>\n      <td>...</td>\n      <td>-0.037360</td>\n      <td>-0.113463</td>\n      <td>-0.178870</td>\n      <td>-0.100785</td>\n      <td>0.812038</td>\n      <td>0.097151</td>\n      <td>-0.038106</td>\n      <td>0.007339</td>\n      <td>9.97</td>\n      <td>0.0</td>\n    </tr>\n    <tr>\n      <th>39654</th>\n      <td>39914</td>\n      <td>-7.346433</td>\n      <td>6.308177</td>\n      <td>-3.019775</td>\n      <td>-1.625954</td>\n      <td>-1.644740</td>\n      <td>-0.624973</td>\n      <td>-0.663542</td>\n      <td>1.697959</td>\n      <td>4.034938</td>\n      <td>...</td>\n      <td>-1.006554</td>\n      <td>-1.360766</td>\n      <td>0.270238</td>\n      <td>-0.888902</td>\n      <td>1.328948</td>\n      <td>0.187997</td>\n      <td>2.071567</td>\n      <td>1.123830</td>\n      <td>8.95</td>\n      <td>0.0</td>\n    </tr>\n    <tr>\n      <th>45877</th>\n      <td>42534</td>\n      <td>-2.795346</td>\n      <td>3.660775</td>\n      <td>-1.508968</td>\n      <td>1.118360</td>\n      <td>-0.855779</td>\n      <td>0.765341</td>\n      <td>-3.804460</td>\n      <td>-7.663018</td>\n      <td>-1.605528</td>\n      <td>...</td>\n      <td>-2.899279</td>\n      <td>1.186918</td>\n      <td>0.757014</td>\n      <td>0.113623</td>\n      <td>-0.206789</td>\n      <td>-0.364723</td>\n      <td>0.119705</td>\n      <td>0.189285</td>\n      <td>1.00</td>\n      <td>0.0</td>\n    </tr>\n    <tr>\n      <th>39281</th>\n      <td>39772</td>\n      <td>0.845702</td>\n      <td>-0.580135</td>\n      <td>1.084927</td>\n      <td>0.573585</td>\n      <td>-0.256650</td>\n      <td>2.084678</td>\n      <td>-0.976582</td>\n      <td>0.793833</td>\n      <td>0.615226</td>\n      <td>...</td>\n      <td>0.115194</td>\n      <td>0.525700</td>\n      <td>0.095240</td>\n      <td>-0.961374</td>\n      <td>-0.103114</td>\n      <td>0.421108</td>\n      <td>0.075443</td>\n      <td>0.012427</td>\n      <td>64.06</td>\n      <td>0.0</td>\n    </tr>\n  </tbody>\n</table>\n<p>5 rows × 31 columns</p>\n</div>"
          },
          "metadata": {}
        }
      ],
      "execution_count": 15
    },
    {
      "cell_type": "code",
      "source": "new_dataset.tail()",
      "metadata": {
        "trusted": true
      },
      "outputs": [
        {
          "execution_count": 16,
          "output_type": "execute_result",
          "data": {
            "text/plain": "        Time        V1        V2        V3        V4        V5        V6  \\\n52521  45501  1.001992  0.047938 -0.349002  1.493958  0.186939  0.190966   \n52584  45541 -1.519244  2.308492 -1.503599  2.064101 -1.000845 -1.016897   \n53591  46057 -1.309441  1.786495 -1.371070  1.214335 -0.336642 -1.390120   \n53794  46149 -1.346509  2.132431 -1.854355  2.116998 -1.070378 -1.092671   \n55401  46925 -0.481531  1.059542  0.647117  0.905586  0.819368 -0.091184   \n\n             V7        V8        V9  ...       V21       V22       V23  \\\n52521 -0.001112  0.147140  0.580415  ... -0.334417 -1.014315 -0.128427   \n52584 -2.059731 -0.275166 -1.562206  ...  1.307871  0.102826 -0.017746   \n53591 -1.709109  0.667748 -1.699809  ...  0.533521 -0.022180 -0.299556   \n53794 -2.230986  1.036425 -1.895516  ...  0.609508  0.202874 -0.060791   \n55401  0.504135  0.161064 -0.765054  ...  0.070633  0.192491 -0.174659   \n\n            V24       V25       V26       V27       V28  Amount  Class  \n52521 -0.946242  0.456090 -0.453206  0.046627  0.064698  105.99    1.0  \n52584  0.149696 -0.096602 -0.369115 -0.019244 -0.208319    1.00    1.0  \n53591 -0.226416  0.364360 -0.475102  0.571426  0.293426    1.00    1.0  \n53794 -0.186733 -0.017401 -0.283751  0.395451  0.233139    1.00    1.0  \n55401 -0.438908  0.239259 -0.217823 -0.072852  0.010463    1.00    1.0  \n\n[5 rows x 31 columns]",
            "text/html": "<div>\n<style scoped>\n    .dataframe tbody tr th:only-of-type {\n        vertical-align: middle;\n    }\n\n    .dataframe tbody tr th {\n        vertical-align: top;\n    }\n\n    .dataframe thead th {\n        text-align: right;\n    }\n</style>\n<table border=\"1\" class=\"dataframe\">\n  <thead>\n    <tr style=\"text-align: right;\">\n      <th></th>\n      <th>Time</th>\n      <th>V1</th>\n      <th>V2</th>\n      <th>V3</th>\n      <th>V4</th>\n      <th>V5</th>\n      <th>V6</th>\n      <th>V7</th>\n      <th>V8</th>\n      <th>V9</th>\n      <th>...</th>\n      <th>V21</th>\n      <th>V22</th>\n      <th>V23</th>\n      <th>V24</th>\n      <th>V25</th>\n      <th>V26</th>\n      <th>V27</th>\n      <th>V28</th>\n      <th>Amount</th>\n      <th>Class</th>\n    </tr>\n  </thead>\n  <tbody>\n    <tr>\n      <th>52521</th>\n      <td>45501</td>\n      <td>1.001992</td>\n      <td>0.047938</td>\n      <td>-0.349002</td>\n      <td>1.493958</td>\n      <td>0.186939</td>\n      <td>0.190966</td>\n      <td>-0.001112</td>\n      <td>0.147140</td>\n      <td>0.580415</td>\n      <td>...</td>\n      <td>-0.334417</td>\n      <td>-1.014315</td>\n      <td>-0.128427</td>\n      <td>-0.946242</td>\n      <td>0.456090</td>\n      <td>-0.453206</td>\n      <td>0.046627</td>\n      <td>0.064698</td>\n      <td>105.99</td>\n      <td>1.0</td>\n    </tr>\n    <tr>\n      <th>52584</th>\n      <td>45541</td>\n      <td>-1.519244</td>\n      <td>2.308492</td>\n      <td>-1.503599</td>\n      <td>2.064101</td>\n      <td>-1.000845</td>\n      <td>-1.016897</td>\n      <td>-2.059731</td>\n      <td>-0.275166</td>\n      <td>-1.562206</td>\n      <td>...</td>\n      <td>1.307871</td>\n      <td>0.102826</td>\n      <td>-0.017746</td>\n      <td>0.149696</td>\n      <td>-0.096602</td>\n      <td>-0.369115</td>\n      <td>-0.019244</td>\n      <td>-0.208319</td>\n      <td>1.00</td>\n      <td>1.0</td>\n    </tr>\n    <tr>\n      <th>53591</th>\n      <td>46057</td>\n      <td>-1.309441</td>\n      <td>1.786495</td>\n      <td>-1.371070</td>\n      <td>1.214335</td>\n      <td>-0.336642</td>\n      <td>-1.390120</td>\n      <td>-1.709109</td>\n      <td>0.667748</td>\n      <td>-1.699809</td>\n      <td>...</td>\n      <td>0.533521</td>\n      <td>-0.022180</td>\n      <td>-0.299556</td>\n      <td>-0.226416</td>\n      <td>0.364360</td>\n      <td>-0.475102</td>\n      <td>0.571426</td>\n      <td>0.293426</td>\n      <td>1.00</td>\n      <td>1.0</td>\n    </tr>\n    <tr>\n      <th>53794</th>\n      <td>46149</td>\n      <td>-1.346509</td>\n      <td>2.132431</td>\n      <td>-1.854355</td>\n      <td>2.116998</td>\n      <td>-1.070378</td>\n      <td>-1.092671</td>\n      <td>-2.230986</td>\n      <td>1.036425</td>\n      <td>-1.895516</td>\n      <td>...</td>\n      <td>0.609508</td>\n      <td>0.202874</td>\n      <td>-0.060791</td>\n      <td>-0.186733</td>\n      <td>-0.017401</td>\n      <td>-0.283751</td>\n      <td>0.395451</td>\n      <td>0.233139</td>\n      <td>1.00</td>\n      <td>1.0</td>\n    </tr>\n    <tr>\n      <th>55401</th>\n      <td>46925</td>\n      <td>-0.481531</td>\n      <td>1.059542</td>\n      <td>0.647117</td>\n      <td>0.905586</td>\n      <td>0.819368</td>\n      <td>-0.091184</td>\n      <td>0.504135</td>\n      <td>0.161064</td>\n      <td>-0.765054</td>\n      <td>...</td>\n      <td>0.070633</td>\n      <td>0.192491</td>\n      <td>-0.174659</td>\n      <td>-0.438908</td>\n      <td>0.239259</td>\n      <td>-0.217823</td>\n      <td>-0.072852</td>\n      <td>0.010463</td>\n      <td>1.00</td>\n      <td>1.0</td>\n    </tr>\n  </tbody>\n</table>\n<p>5 rows × 31 columns</p>\n</div>"
          },
          "metadata": {}
        }
      ],
      "execution_count": 16
    },
    {
      "cell_type": "code",
      "source": "new_dataset['Class'].value_counts()",
      "metadata": {
        "trusted": true
      },
      "outputs": [
        {
          "execution_count": 17,
          "output_type": "execute_result",
          "data": {
            "text/plain": "0.0    492\n1.0    156\nName: Class, dtype: int64"
          },
          "metadata": {}
        }
      ],
      "execution_count": 17
    },
    {
      "cell_type": "code",
      "source": "new_dataset.groupby('Class').mean()\n",
      "metadata": {
        "trusted": true
      },
      "outputs": [
        {
          "execution_count": 18,
          "output_type": "execute_result",
          "data": {
            "text/plain": "               Time        V1        V2        V3        V4        V5  \\\nClass                                                                   \n0.0    29983.002033 -0.196423  0.023055  0.727410  0.176506 -0.235670   \n1.0    27835.794872 -7.345427  5.255872 -9.922599  5.709553 -5.426307   \n\n             V6        V7        V8        V9  ...       V20       V21  \\\nClass                                          ...                       \n0.0    0.123923 -0.098082  0.116126  0.149929  ...  0.050303 -0.070669   \n1.0   -2.204159 -7.736462  3.560034 -3.453697  ...  0.449731  0.881689   \n\n            V22       V23       V24       V25       V26       V27       V28  \\\nClass                                                                         \n0.0   -0.112672 -0.033978 -0.010078  0.160484  0.021225  0.010214  0.020525   \n1.0   -0.211806 -0.275513 -0.088146  0.239724  0.127377  0.580843  0.031086   \n\n          Amount  \nClass             \n0.0    88.276199  \n1.0    95.758013  \n\n[2 rows x 30 columns]",
            "text/html": "<div>\n<style scoped>\n    .dataframe tbody tr th:only-of-type {\n        vertical-align: middle;\n    }\n\n    .dataframe tbody tr th {\n        vertical-align: top;\n    }\n\n    .dataframe thead th {\n        text-align: right;\n    }\n</style>\n<table border=\"1\" class=\"dataframe\">\n  <thead>\n    <tr style=\"text-align: right;\">\n      <th></th>\n      <th>Time</th>\n      <th>V1</th>\n      <th>V2</th>\n      <th>V3</th>\n      <th>V4</th>\n      <th>V5</th>\n      <th>V6</th>\n      <th>V7</th>\n      <th>V8</th>\n      <th>V9</th>\n      <th>...</th>\n      <th>V20</th>\n      <th>V21</th>\n      <th>V22</th>\n      <th>V23</th>\n      <th>V24</th>\n      <th>V25</th>\n      <th>V26</th>\n      <th>V27</th>\n      <th>V28</th>\n      <th>Amount</th>\n    </tr>\n    <tr>\n      <th>Class</th>\n      <th></th>\n      <th></th>\n      <th></th>\n      <th></th>\n      <th></th>\n      <th></th>\n      <th></th>\n      <th></th>\n      <th></th>\n      <th></th>\n      <th></th>\n      <th></th>\n      <th></th>\n      <th></th>\n      <th></th>\n      <th></th>\n      <th></th>\n      <th></th>\n      <th></th>\n      <th></th>\n      <th></th>\n    </tr>\n  </thead>\n  <tbody>\n    <tr>\n      <th>0.0</th>\n      <td>29983.002033</td>\n      <td>-0.196423</td>\n      <td>0.023055</td>\n      <td>0.727410</td>\n      <td>0.176506</td>\n      <td>-0.235670</td>\n      <td>0.123923</td>\n      <td>-0.098082</td>\n      <td>0.116126</td>\n      <td>0.149929</td>\n      <td>...</td>\n      <td>0.050303</td>\n      <td>-0.070669</td>\n      <td>-0.112672</td>\n      <td>-0.033978</td>\n      <td>-0.010078</td>\n      <td>0.160484</td>\n      <td>0.021225</td>\n      <td>0.010214</td>\n      <td>0.020525</td>\n      <td>88.276199</td>\n    </tr>\n    <tr>\n      <th>1.0</th>\n      <td>27835.794872</td>\n      <td>-7.345427</td>\n      <td>5.255872</td>\n      <td>-9.922599</td>\n      <td>5.709553</td>\n      <td>-5.426307</td>\n      <td>-2.204159</td>\n      <td>-7.736462</td>\n      <td>3.560034</td>\n      <td>-3.453697</td>\n      <td>...</td>\n      <td>0.449731</td>\n      <td>0.881689</td>\n      <td>-0.211806</td>\n      <td>-0.275513</td>\n      <td>-0.088146</td>\n      <td>0.239724</td>\n      <td>0.127377</td>\n      <td>0.580843</td>\n      <td>0.031086</td>\n      <td>95.758013</td>\n    </tr>\n  </tbody>\n</table>\n<p>2 rows × 30 columns</p>\n</div>"
          },
          "metadata": {}
        }
      ],
      "execution_count": 18
    },
    {
      "cell_type": "code",
      "source": "#Splitting the data into Features & Targets\nX = new_dataset.drop(columns='Class', axis=1)\nY = new_dataset['Class']\nprint(X)",
      "metadata": {
        "trusted": true
      },
      "outputs": [
        {
          "name": "stdout",
          "text": "        Time        V1        V2        V3        V4        V5        V6  \\\n15466  26852  1.207315 -0.028825 -0.211620  0.763213  0.367964  0.600101   \n49946  44276  1.251325  0.757869 -0.084439  2.369997  0.485493 -0.547429   \n39654  39914 -7.346433  6.308177 -3.019775 -1.625954 -1.644740 -0.624973   \n45877  42534 -2.795346  3.660775 -1.508968  1.118360 -0.855779  0.765341   \n39281  39772  0.845702 -0.580135  1.084927  0.573585 -0.256650  2.084678   \n...      ...       ...       ...       ...       ...       ...       ...   \n52521  45501  1.001992  0.047938 -0.349002  1.493958  0.186939  0.190966   \n52584  45541 -1.519244  2.308492 -1.503599  2.064101 -1.000845 -1.016897   \n53591  46057 -1.309441  1.786495 -1.371070  1.214335 -0.336642 -1.390120   \n53794  46149 -1.346509  2.132431 -1.854355  2.116998 -1.070378 -1.092671   \n55401  46925 -0.481531  1.059542  0.647117  0.905586  0.819368 -0.091184   \n\n             V7        V8        V9  ...       V20       V21       V22  \\\n15466 -0.063089  0.151570  0.257969  ... -0.043192 -0.253342 -0.769807   \n49946  0.602436 -0.284635 -1.103291  ... -0.101327 -0.037360 -0.113463   \n39654 -0.663542  1.697959  4.034938  ...  3.167479 -1.006554 -1.360766   \n45877 -3.804460 -7.663018 -1.605528  ...  1.827200 -2.899279  1.186918   \n39281 -0.976582  0.793833  0.615226  ... -0.100272  0.115194  0.525700   \n...         ...       ...       ...  ...       ...       ...       ...   \n52521 -0.001112  0.147140  0.580415  ...  0.016004 -0.334417 -1.014315   \n52584 -2.059731 -0.275166 -1.562206  ...  0.175019  1.307871  0.102826   \n53591 -1.709109  0.667748 -1.699809  ...  0.253464  0.533521 -0.022180   \n53794 -2.230986  1.036425 -1.895516  ...  0.221919  0.609508  0.202874   \n55401  0.504135  0.161064 -0.765054  ... -0.042515  0.070633  0.192491   \n\n            V23       V24       V25       V26       V27       V28  Amount  \n15466 -0.236558 -1.426600  0.692122 -0.426037  0.010321  0.004005   49.45  \n49946 -0.178870 -0.100785  0.812038  0.097151 -0.038106  0.007339    9.97  \n39654  0.270238 -0.888902  1.328948  0.187997  2.071567  1.123830    8.95  \n45877  0.757014  0.113623 -0.206789 -0.364723  0.119705  0.189285    1.00  \n39281  0.095240 -0.961374 -0.103114  0.421108  0.075443  0.012427   64.06  \n...         ...       ...       ...       ...       ...       ...     ...  \n52521 -0.128427 -0.946242  0.456090 -0.453206  0.046627  0.064698  105.99  \n52584 -0.017746  0.149696 -0.096602 -0.369115 -0.019244 -0.208319    1.00  \n53591 -0.299556 -0.226416  0.364360 -0.475102  0.571426  0.293426    1.00  \n53794 -0.060791 -0.186733 -0.017401 -0.283751  0.395451  0.233139    1.00  \n55401 -0.174659 -0.438908  0.239259 -0.217823 -0.072852  0.010463    1.00  \n\n[648 rows x 30 columns]\n",
          "output_type": "stream"
        }
      ],
      "execution_count": 19
    },
    {
      "cell_type": "code",
      "source": "print(Y)",
      "metadata": {
        "trusted": true
      },
      "outputs": [
        {
          "name": "stdout",
          "text": "15466    0.0\n49946    0.0\n39654    0.0\n45877    0.0\n39281    0.0\n        ... \n52521    1.0\n52584    1.0\n53591    1.0\n53794    1.0\n55401    1.0\nName: Class, Length: 648, dtype: float64\n",
          "output_type": "stream"
        }
      ],
      "execution_count": 20
    },
    {
      "cell_type": "code",
      "source": "X_train, X_test, Y_train, Y_test = train_test_split(X, Y, test_size=0.2, stratify=Y, random_state=2)\nprint(X.shape, X_train.shape, X_test.shape)",
      "metadata": {
        "trusted": true
      },
      "outputs": [
        {
          "name": "stdout",
          "text": "(648, 30) (518, 30) (130, 30)\n",
          "output_type": "stream"
        }
      ],
      "execution_count": 21
    },
    {
      "cell_type": "code",
      "source": "model = LogisticRegression()\n# training the Logistic Regression Model with Training Data\nmodel.fit(X_train, Y_train)",
      "metadata": {
        "trusted": true
      },
      "outputs": [
        {
          "name": "stderr",
          "text": "/lib/python3.11/site-packages/sklearn/linear_model/_logistic.py:460: ConvergenceWarning: lbfgs failed to converge (status=1):\nSTOP: TOTAL NO. of ITERATIONS REACHED LIMIT.\n\nIncrease the number of iterations (max_iter) or scale the data as shown in:\n    https://scikit-learn.org/stable/modules/preprocessing.html\nPlease also refer to the documentation for alternative solver options:\n    https://scikit-learn.org/stable/modules/linear_model.html#logistic-regression\n  n_iter_i = _check_optimize_result(\n",
          "output_type": "stream"
        },
        {
          "execution_count": 24,
          "output_type": "execute_result",
          "data": {
            "text/plain": "LogisticRegression()",
            "text/html": "<style>#sk-container-id-2 {color: black;}#sk-container-id-2 pre{padding: 0;}#sk-container-id-2 div.sk-toggleable {background-color: white;}#sk-container-id-2 label.sk-toggleable__label {cursor: pointer;display: block;width: 100%;margin-bottom: 0;padding: 0.3em;box-sizing: border-box;text-align: center;}#sk-container-id-2 label.sk-toggleable__label-arrow:before {content: \"▸\";float: left;margin-right: 0.25em;color: #696969;}#sk-container-id-2 label.sk-toggleable__label-arrow:hover:before {color: black;}#sk-container-id-2 div.sk-estimator:hover label.sk-toggleable__label-arrow:before {color: black;}#sk-container-id-2 div.sk-toggleable__content {max-height: 0;max-width: 0;overflow: hidden;text-align: left;background-color: #f0f8ff;}#sk-container-id-2 div.sk-toggleable__content pre {margin: 0.2em;color: black;border-radius: 0.25em;background-color: #f0f8ff;}#sk-container-id-2 input.sk-toggleable__control:checked~div.sk-toggleable__content {max-height: 200px;max-width: 100%;overflow: auto;}#sk-container-id-2 input.sk-toggleable__control:checked~label.sk-toggleable__label-arrow:before {content: \"▾\";}#sk-container-id-2 div.sk-estimator input.sk-toggleable__control:checked~label.sk-toggleable__label {background-color: #d4ebff;}#sk-container-id-2 div.sk-label input.sk-toggleable__control:checked~label.sk-toggleable__label {background-color: #d4ebff;}#sk-container-id-2 input.sk-hidden--visually {border: 0;clip: rect(1px 1px 1px 1px);clip: rect(1px, 1px, 1px, 1px);height: 1px;margin: -1px;overflow: hidden;padding: 0;position: absolute;width: 1px;}#sk-container-id-2 div.sk-estimator {font-family: monospace;background-color: #f0f8ff;border: 1px dotted black;border-radius: 0.25em;box-sizing: border-box;margin-bottom: 0.5em;}#sk-container-id-2 div.sk-estimator:hover {background-color: #d4ebff;}#sk-container-id-2 div.sk-parallel-item::after {content: \"\";width: 100%;border-bottom: 1px solid gray;flex-grow: 1;}#sk-container-id-2 div.sk-label:hover label.sk-toggleable__label {background-color: #d4ebff;}#sk-container-id-2 div.sk-serial::before {content: \"\";position: absolute;border-left: 1px solid gray;box-sizing: border-box;top: 0;bottom: 0;left: 50%;z-index: 0;}#sk-container-id-2 div.sk-serial {display: flex;flex-direction: column;align-items: center;background-color: white;padding-right: 0.2em;padding-left: 0.2em;position: relative;}#sk-container-id-2 div.sk-item {position: relative;z-index: 1;}#sk-container-id-2 div.sk-parallel {display: flex;align-items: stretch;justify-content: center;background-color: white;position: relative;}#sk-container-id-2 div.sk-item::before, #sk-container-id-2 div.sk-parallel-item::before {content: \"\";position: absolute;border-left: 1px solid gray;box-sizing: border-box;top: 0;bottom: 0;left: 50%;z-index: -1;}#sk-container-id-2 div.sk-parallel-item {display: flex;flex-direction: column;z-index: 1;position: relative;background-color: white;}#sk-container-id-2 div.sk-parallel-item:first-child::after {align-self: flex-end;width: 50%;}#sk-container-id-2 div.sk-parallel-item:last-child::after {align-self: flex-start;width: 50%;}#sk-container-id-2 div.sk-parallel-item:only-child::after {width: 0;}#sk-container-id-2 div.sk-dashed-wrapped {border: 1px dashed gray;margin: 0 0.4em 0.5em 0.4em;box-sizing: border-box;padding-bottom: 0.4em;background-color: white;}#sk-container-id-2 div.sk-label label {font-family: monospace;font-weight: bold;display: inline-block;line-height: 1.2em;}#sk-container-id-2 div.sk-label-container {text-align: center;}#sk-container-id-2 div.sk-container {/* jupyter's `normalize.less` sets `[hidden] { display: none; }` but bootstrap.min.css set `[hidden] { display: none !important; }` so we also need the `!important` here to be able to override the default hidden behavior on the sphinx rendered scikit-learn.org. See: https://github.com/scikit-learn/scikit-learn/issues/21755 */display: inline-block !important;position: relative;}#sk-container-id-2 div.sk-text-repr-fallback {display: none;}</style><div id=\"sk-container-id-2\" class=\"sk-top-container\"><div class=\"sk-text-repr-fallback\"><pre>LogisticRegression()</pre><b>In a Jupyter environment, please rerun this cell to show the HTML representation or trust the notebook. <br />On GitHub, the HTML representation is unable to render, please try loading this page with nbviewer.org.</b></div><div class=\"sk-container\" hidden><div class=\"sk-item\"><div class=\"sk-estimator sk-toggleable\"><input class=\"sk-toggleable__control sk-hidden--visually\" id=\"sk-estimator-id-2\" type=\"checkbox\" checked><label for=\"sk-estimator-id-2\" class=\"sk-toggleable__label sk-toggleable__label-arrow\">LogisticRegression</label><div class=\"sk-toggleable__content\"><pre>LogisticRegression()</pre></div></div></div></div></div>"
          },
          "metadata": {}
        }
      ],
      "execution_count": 24
    },
    {
      "cell_type": "code",
      "source": "# accuracy on training data\nX_train_prediction = model.predict(X_train)\ntraining_data_accuracy = accuracy_score(X_train_prediction, Y_train)\nprint('Accuracy on Training data : ', training_data_accuracy)",
      "metadata": {
        "trusted": true
      },
      "outputs": [
        {
          "name": "stdout",
          "text": "Accuracy on Training data :  0.971042471042471\n",
          "output_type": "stream"
        }
      ],
      "execution_count": 25
    },
    {
      "cell_type": "code",
      "source": "# accuracy on test data\nX_test_prediction = model.predict(X_test)\ntest_data_accuracy = accuracy_score(X_test_prediction, Y_test)\nprint('Accuracy score on Test Data : ', test_data_accuracy)",
      "metadata": {
        "trusted": true
      },
      "outputs": [
        {
          "name": "stdout",
          "text": "Accuracy score on Test Data :  0.9769230769230769\n",
          "output_type": "stream"
        }
      ],
      "execution_count": 26
    },
    {
      "cell_type": "code",
      "source": "",
      "metadata": {
        "trusted": true
      },
      "outputs": [],
      "execution_count": null
    }
  ]
}